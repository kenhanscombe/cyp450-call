{
 "cells": [
  {
   "cell_type": "markdown",
   "id": "395413f7",
   "metadata": {
    "papermill": {
     "duration": null,
     "end_time": null,
     "exception": null,
     "start_time": null,
     "status": "completed"
    },
    "tags": []
   },
   "source": [
    "# PGxPOP Call Report"
   ]
  },
  {
   "cell_type": "code",
   "execution_count": null,
   "id": "a5997b7f",
   "metadata": {
    "papermill": {
     "duration": null,
     "end_time": null,
     "exception": null,
     "start_time": null,
     "status": "completed"
    },
    "tags": []
   },
   "outputs": [],
   "source": [
    "import pandas as pd\n",
    "\n",
    "from pathlib import Path"
   ]
  },
  {
   "cell_type": "code",
   "execution_count": null,
   "id": "3797277d",
   "metadata": {
    "papermill": {
     "duration": null,
     "end_time": null,
     "exception": null,
     "start_time": null,
     "status": "completed"
    },
    "tags": [
     "parameters"
    ]
   },
   "outputs": [],
   "source": [
    "PRJDIR = '.'\n",
    "DATDIR = 'data'\n",
    "REPDIR = 'workflow/reports'"
   ]
  },
  {
   "cell_type": "code",
   "execution_count": null,
   "id": "e73bbb30",
   "metadata": {
    "papermill": {
     "duration": null,
     "end_time": null,
     "exception": null,
     "start_time": null,
     "status": "completed"
    },
    "tags": []
   },
   "outputs": [],
   "source": [
    "def read_pgxpop_out(pgxpopout, prjdir, datdir, repdir):\n",
    "    \"\"\"Reads PGxPOP output\n",
    "    \n",
    "    pgxpopout:  Name of the file\n",
    "    prjdir: Project directory\n",
    "    datdir: Data directory\n",
    "    repdir = Reports directory\n",
    "    \"\"\"\n",
    "\n",
    "    project_dir = Path(prjdir).absolute()\n",
    "    data_dir = project_dir / datdir\n",
    "    report_dir = project_dir / repdir\n",
    "\n",
    "    col_names = [\n",
    "        \"sample_id\", \"gene\", \"diplotype\", \"hap_1\", \"hap_2\",\n",
    "        \"hap_1_function\", \"hap_2_function\", \"hap_1_variants\", \"hap_2_variants\",\n",
    "        \"phenotype\", \"hap_1_presumptive\", \"hap_2_presumptive\", \"phenotype_presumptive\",\n",
    "        \"activity_score\", \"uncallable\", \"additional_column\", \"extra_variants\"\n",
    "    ]\n",
    "\n",
    "    df = pd.read_csv(data_dir / pgxpopout, sep='\\t', skiprows=0, names=col_names)"
   ]
  },
  {
   "cell_type": "code",
   "execution_count": null,
   "id": "f9b217af",
   "metadata": {
    "papermill": {
     "duration": null,
     "end_time": null,
     "exception": null,
     "start_time": null,
     "status": "completed"
    },
    "tags": []
   },
   "outputs": [],
   "source": [
    "df = read_pgxpop_out('chr10.pgxpopout', PRJDIR, DATDIR, REPDIR)\n",
    "print(df.head())"
   ]
  }
 ],
 "metadata": {
  "language_info": {
   "name": "python"
  },
  "papermill": {
   "default_parameters": {},
   "duration": 1.072743,
   "end_time": "2021-09-20T11:51:26.039515",
   "environment_variables": {},
   "exception": null,
   "input_path": "workflow/scripts/pgxpop_out.py.ipynb",
   "output_path": "workflow/reports/pgxpop_out.ipynb",
   "parameters": {},
   "start_time": "2021-09-20T11:51:24.966772",
   "version": "2.3.3"
  }
 },
 "nbformat": 4,
 "nbformat_minor": 5
}