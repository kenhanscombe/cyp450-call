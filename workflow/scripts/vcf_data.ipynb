{
 "cells": [
  {
   "cell_type": "markdown",
   "metadata": {},
   "source": [
    "# VCF format genetic data\n",
    "\n",
    "What is the frequency of observed diplotypes in UKB (phased VCF) data? __Note__. These are phased haplotypes in imputed data, lifted over to hg38."
   ]
  },
  {
   "cell_type": "code",
   "execution_count": null,
   "metadata": {},
   "outputs": [],
   "source": [
    "import allel\n",
    "print(allel.__version__)"
   ]
  },
  {
   "cell_type": "markdown",
   "metadata": {},
   "source": [
    "<br>\n",
    "\n",
    "scikit-allel class `GenotypeArray` is a numpy array of genotype calls, (variants, samples, alleles)"
   ]
  },
  {
   "cell_type": "code",
   "execution_count": null,
   "metadata": {},
   "outputs": [],
   "source": [
    "gt10 = allel.GenotypeArray(allel.read_vcf('data/chr10_phased.vcf.gz', fields=['calldata/GT'])['calldata/GT'])\n",
    "gt22 = allel.GenotypeArray(allel.read_vcf('data/chr22_phased.vcf.gz', fields=['calldata/GT'])['calldata/GT'])\n",
    "\n",
    "gt10.is_phased = np.ones(gt10.shape[0:2], dtype=bool)\n",
    "gt22.is_phased = np.ones(gt22.shape[0:2], dtype=bool)\n",
    "\n",
    "display_df(gt10)\n",
    "display_df(gt22)"
   ]
  },
  {
   "cell_type": "markdown",
   "metadata": {},
   "source": [
    "<br>\n",
    "\n",
    "Alternate allele count, (variants, number of alleles): 0 = reference, 1 = first alternate, ..."
   ]
  },
  {
   "cell_type": "code",
   "execution_count": null,
   "metadata": {},
   "outputs": [],
   "source": [
    "ac10 = gt10.count_alleles()\n",
    "ac22 = gt22.count_alleles()\n",
    "\n",
    "display_df(ac10)\n",
    "display_df(ac22)"
   ]
  },
  {
   "cell_type": "markdown",
   "metadata": {},
   "source": [
    "<br>\n",
    "\n",
    "Read variant information"
   ]
  },
  {
   "cell_type": "code",
   "execution_count": null,
   "metadata": {},
   "outputs": [],
   "source": [
    "variants10 = allel.vcf_to_dataframe('data/chr10_phased.vcf.gz', fields=['CHROM', 'POS', 'ID', 'REF', 'ALT', 'AF', 'AC', 'is_snp'], alt_number=1)\n",
    "variants22 = allel.vcf_to_dataframe('data/chr22_phased.vcf.gz', fields=['CHROM', 'POS', 'ID', 'REF', 'ALT', 'AF', 'AC', 'is_snp'], alt_number=1)"
   ]
  },
  {
   "cell_type": "markdown",
   "metadata": {},
   "source": [
    "<br>\n",
    "\n",
    "Check indels (non-SNPs) have been captured. Which is the specific indel required to call the star alleles (in particular for CYP2D6?)?"
   ]
  },
  {
   "cell_type": "code",
   "execution_count": null,
   "metadata": {},
   "outputs": [],
   "source": [
    "display(variants10[variants10['is_snp'] == False])\n",
    "display(variants22[variants22['is_snp'] == False])"
   ]
  }
 ],
 "metadata": {
  "language_info": {
   "name": "python"
  },
  "orig_nbformat": 4
 },
 "nbformat": 4,
 "nbformat_minor": 2
}
