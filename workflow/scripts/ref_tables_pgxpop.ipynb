{
 "cells": [
  {
   "cell_type": "markdown",
   "metadata": {},
   "source": [
    "# PGxPOP tables\n",
    "\n",
    "Haplotype (star allele) > function, diplotype (function) > metabolizing phenotype"
   ]
  },
  {
   "cell_type": "code",
   "execution_count": null,
   "metadata": {},
   "outputs": [],
   "source": [
    "gene_phenotype_url = 'https://raw.githubusercontent.com/PharmGKB/PGxPOP/master/definition/gene.phenotypes.json'\n",
    "cyp2c19_translation_url = 'https://raw.githubusercontent.com/PharmGKB/PGxPOP/master/definition/alleles/CYP2C19_translation.json'\n",
    "cyp2d6_translation_url = 'https://raw.githubusercontent.com/PharmGKB/PGxPOP/master/definition/alleles/CYP2D6_translation.json'\n",
    " \n",
    "with urllib.request.urlopen(gene_phenotype_url) as url:\n",
    "    pgxpop_gene_phenotype = json.loads(url.read().decode())\n",
    "\n",
    "with urllib.request.urlopen(cyp2c19_translation_url) as url:\n",
    "    cyp2c19_translation = json.loads(url.read().decode())\n",
    "    \n",
    "with urllib.request.urlopen(cyp2d6_translation_url) as url:\n",
    "    cyp2d6_translation = json.loads(url.read().decode())"
   ]
  },
  {
   "cell_type": "code",
   "execution_count": null,
   "metadata": {},
   "outputs": [],
   "source": [
    "cyp2c19_translation.keys()"
   ]
  },
  {
   "cell_type": "code",
   "execution_count": null,
   "metadata": {},
   "outputs": [],
   "source": [
    "cyp2c19_haplotypes = [x['haplotypes'] for x in pgxpop_gene_phenotype if x['gene'] == 'CYP2C19']\n",
    "cyp2c19_diplotypes = [x['diplotypes'] for x in pgxpop_gene_phenotype if x['gene'] == 'CYP2C19']\n",
    "\n",
    "cyp2d6_haplotypes = [x['haplotypes'] for x in pgxpop_gene_phenotype if x['gene'] == 'CYP2D6']\n",
    "cyp2d6_diplotypes = [x['diplotypes'] for x in pgxpop_gene_phenotype if x['gene'] == 'CYP2D6']"
   ]
  },
  {
   "cell_type": "code",
   "execution_count": null,
   "metadata": {},
   "outputs": [],
   "source": [
    "hap2c19 = (pd.DataFrame.from_dict(cyp2c19_haplotypes[0], orient='index')\n",
    "           .reset_index()\n",
    "           .rename({'index': 'haplotype', 0: 'function'}, axis='columns'))\n",
    "\n",
    "hap2c19[hap2c19['function'].isin(['Increased Function'])]"
   ]
  },
  {
   "cell_type": "code",
   "execution_count": null,
   "metadata": {},
   "outputs": [],
   "source": [
    "ct_hap2c19 = pd.crosstab(hap2c19['haplotype'], hap2c19['function'])\n",
    "print(ct_hap2c19.sum())\n",
    "ax = ct_hap2c19.sum().plot.bar()\n",
    "ax.set_xlabel('function', weight='bold')\n",
    "ax.spines['top'].set_visible(False)\n",
    "ax.spines['right'].set_visible(False)"
   ]
  },
  {
   "cell_type": "code",
   "execution_count": null,
   "metadata": {},
   "outputs": [],
   "source": [
    "ct_hap2c19.sum().transpose()"
   ]
  },
  {
   "cell_type": "code",
   "execution_count": null,
   "metadata": {},
   "outputs": [],
   "source": [
    "pd.DataFrame(cyp2c19_diplotypes[0])"
   ]
  }
 ],
 "metadata": {
  "kernelspec": {
   "display_name": "Python 3.7.3 64-bit ('base': conda)",
   "language": "python",
   "name": "python373jvsc74a57bd022ab3e6a73a2731b2d2a5eee53baffdb723c6979335821acd0eb70065f9061b3"
  },
  "language_info": {
   "name": "python",
   "version": "3.7.3"
  },
  "orig_nbformat": 4
 },
 "nbformat": 4,
 "nbformat_minor": 2
}
